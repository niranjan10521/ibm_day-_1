{
 "cells": [
  {
   "cell_type": "code",
   "execution_count": null,
   "id": "79c57f29",
   "metadata": {},
   "outputs": [],
   "source": [
    "\"\"\" data = new oil - but oly id you know how to refine it.\n",
    "youtube -every single minute = 20 multiple time of your life \n",
    "tyoes of data \n",
    "1.qualatative(catergorical data )- which describe qualities or categories\n",
    "what type of ,which type but not how much\n",
    "1.1 - nominal data -any categories without any order \n",
    "eg male ,female,city name ,dehli you hair color  \n",
    "1.2 - ordinal data - categories with a clear order but no exact diff \n",
    "eduaction 10 ,12, be,nasters,phd\n",
    "rating - poor ,average ,excellent \n",
    "day names - sunday ,minday ,tuesday \n",
    "2.quantative data(numberical data )-deals with numbers and answers the questions line \n",
    "how many \n",
    "how much \n",
    "how often \n",
    "2.1 - discrete data - countable values often it includes whole numbers -infinity to +infinity \n",
    "bumbers of studens in class ,goals scored in amatch \n",
    "cars parked\n",
    "2.2 - include decimals,measurable values\n",
    "e.g. height of a person -5.4 ft \n",
    "weight of a person - 40,40.34\n",
    "temperature of a room - 22.4 ,33.4  \n",
    "\"\"\""
   ]
  },
  {
   "cell_type": "code",
   "execution_count": null,
   "id": "df9ce477",
   "metadata": {},
   "outputs": [],
   "source": [
    "\"\"\"to visualize to analyze the data \n",
    "which data can be daved in sql \"\"\""
   ]
  },
  {
   "cell_type": "code",
   "execution_count": null,
   "id": "17c7cb2f",
   "metadata": {},
   "outputs": [],
   "source": [
    "\"\"\"formats of data \n",
    "1.structured data - which includes data which \n",
    "is organized in predefined formata (tabular structure)\n",
    "2.stored in relational dbms or spreadsheets easily \n",
    "-it follows strict schema with fixed field\n",
    "eg - finance recorf .timetable , hr data , crm ,erp \n",
    "-it is easy to query and analyze using squl  \n",
    "\"\"\""
   ]
  },
  {
   "cell_type": "code",
   "execution_count": null,
   "id": "33de67df",
   "metadata": {},
   "outputs": [],
   "source": [
    "\"\"\"unstructured data \n",
    "-lacks a predefined data model \n",
    "-no table format \n",
    "- includes text images audion ,video ,from social media \n",
    "-complex and varied harfder to process directly \n",
    "bid data - to deal with complex data \n",
    "-it requries advanced tools like nlp and ml \n",
    "- it makesup most data generated today globally \n",
    "\n",
    "\"\"\""
   ]
  },
  {
   "cell_type": "code",
   "execution_count": null,
   "id": "a021f0a0",
   "metadata": {},
   "outputs": [],
   "source": [
    "\"\"\" semi structured data \n",
    "combination of structured and unstructures dat a\n",
    "dint use any rdbns \n",
    "use tage and markers to define the elemenr \n",
    "easier to analyze comparitelt from unstructure\n",
    "eg email, web apps , wekipedia \n",
    "-Nosql database \n",
    "-log files \n",
    "-XML html \n",
    "\n",
    "\"\"\"\n",
    "\n"
   ]
  },
  {
   "cell_type": "code",
   "execution_count": null,
   "id": "c86d2306",
   "metadata": {},
   "outputs": [
    {
     "data": {
      "text/plain": [
       "'\" 4 main data analysis methods - \\n1.descriptive analysis - what happend stage -summarize the past data \\nege .company checks old record \\nyour fitneess tracker - how many howurs did you walk \\n\\n2.diagnostic asalysis - why it happened stage - root patterns\\nany compny that uses slaes data - that company sales grew because of \\nsales scheme \\nyou look at descriptive analysis analysis and and find out why it happened \\n aba timi le eauta record hereu teacher present vako wala ani\\n timi le kati ota subjects ma students haru fail vaexan vanne pani \\n thah payau ani kina student haru fail vaexan vanda timi le reason \\n nikale u ki teacher haru absent vaera students haru fail vako ho vanera\\n3. predictive analysis - what will happen \\nuses historical data   \\nuse past data + sttaical models + machine learning to forcasrt the future\\ngoogle map ma katai re \\neauta bank predict ki customer le loan linxa ki nai ?\\n'"
      ]
     },
     "execution_count": 1,
     "metadata": {},
     "output_type": "execute_result"
    }
   ],
   "source": [
    "\"\"\"\" 4 main data analysis methods - \n",
    "1.descriptive analysis - what happend stage -summarize the past data \n",
    "ege .company checks old record \n",
    "your fitneess tracker - how many howurs did you walk \n",
    "\n",
    "2.diagnostic asalysis - why it happened stage - root patterns\n",
    "any compny that uses slaes data - that company sales grew because of \n",
    "sales scheme \n",
    "you look at descriptive analysis analysis and and find out why it happened \n",
    " aba timi le eauta record hereu teacher present vako wala ani\n",
    " timi le kati ota subjects ma students haru fail vaexan vanne pani \n",
    " thah payau ani kina student haru fail vaexan vanda timi le reason \n",
    " nikale u ki teacher haru absent vaera students haru fail vako ho vanera\n",
    "3. predictive analysis - what will happen \n",
    "uses historical data   \n",
    "use past data + sttaical models + machine learning to forcasrt the future\n",
    "google map ma katai re \n",
    "eauta bank predict ki customer le loan linxa ki nai ?\n",
    "4. prescetive analysis - what to do stage : future prediction \n",
    "it will suggest us the best answer \n",
    "google map ma time dekhauxa ..time nai presceptive analysis \n",
    "arko xai tapai ko intrest kato xa vanera thah hunxa \n",
    "\"\"\""
   ]
  },
  {
   "cell_type": "code",
   "execution_count": null,
   "id": "4f465a6a",
   "metadata": {},
   "outputs": [],
   "source": [
    "\"\"\" accuracy eauta rate \n",
    "precision rate -      \n",
    "\"\"\""
   ]
  },
  {
   "cell_type": "code",
   "execution_count": null,
   "id": "dc0c35df",
   "metadata": {},
   "outputs": [],
   "source": [
    "\"\"\"\n",
    "what is machine learning ?\n",
    "ai is bag container \n",
    "machine learning ai ko part ho \n",
    "  machines learn through data likewise humans learn through \n",
    "  experience \n",
    "and make decision or prediction \n",
    "traditional programming \n",
    "rules + data = output\n",
    "machine learning \n",
    "data + output = rules\n",
    "   \n",
    "\"\"\""
   ]
  },
  {
   "cell_type": "code",
   "execution_count": null,
   "id": "331060e1",
   "metadata": {},
   "outputs": [
    {
     "data": {
      "text/plain": [
       "' why is machine learning important ?\\nhandles huge amounts of data \\nautomates decision making \\nused in almost every industry \\nexamples :\\n'"
      ]
     },
     "execution_count": 3,
     "metadata": {},
     "output_type": "execute_result"
    }
   ],
   "source": [
    "\"\"\" why is machine learning important ?\n",
    "handles huge amounts of data \n",
    "automates decision making \n",
    "used in almost every industry \n",
    "examples :\n",
    "google maps predicting traffice \n",
    "youtube vide recommendations \n",
    "\"\"\""
   ]
  },
  {
   "cell_type": "code",
   "execution_count": null,
   "id": "37e830f1",
   "metadata": {},
   "outputs": [],
   "source": [
    "\"\"\"  \n",
    "\"\"\""
   ]
  },
  {
   "cell_type": "code",
   "execution_count": null,
   "id": "c80cdb95",
   "metadata": {},
   "outputs": [],
   "source": []
  }
 ],
 "metadata": {
  "kernelspec": {
   "display_name": "Python 3",
   "language": "python",
   "name": "python3"
  },
  "language_info": {
   "codemirror_mode": {
    "name": "ipython",
    "version": 3
   },
   "file_extension": ".py",
   "mimetype": "text/x-python",
   "name": "python",
   "nbconvert_exporter": "python",
   "pygments_lexer": "ipython3",
   "version": "3.10.9"
  }
 },
 "nbformat": 4,
 "nbformat_minor": 5
}
