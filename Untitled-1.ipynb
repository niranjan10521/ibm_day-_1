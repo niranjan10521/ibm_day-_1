{
 "cells": [
  {
   "cell_type": "code",
   "execution_count": 4,
   "id": "a07d750f",
   "metadata": {},
   "outputs": [
    {
     "name": "stdout",
     "output_type": "stream",
     "text": [
      "4\n",
      "5\n"
     ]
    }
   ],
   "source": [
    "#list - one data type of python [] list is ordered mutable ,indexing will work on list \n",
    "#indexing - position of that value \n",
    "#slicing\n",
    "list =[1,2,3,4,5,6]\n",
    "#i want to fetch 3 4 20\n",
    "for i in list[3:5:1]:\n",
    "    print(i)\n"
   ]
  },
  {
   "cell_type": "code",
   "execution_count": 5,
   "id": "96f2b6e5",
   "metadata": {},
   "outputs": [
    {
     "name": "stdout",
     "output_type": "stream",
     "text": [
      "2 is a even number\n"
     ]
    }
   ],
   "source": [
    "#even or odd number\n",
    "number = int(input(\"enter a number\"))\n",
    "if number %2 ==0:\n",
    "    print(number ,'is a even number')\n",
    "else:\n",
    "    print(number,'is a odd nummber')"
   ]
  },
  {
   "cell_type": "code",
   "execution_count": 13,
   "id": "60470182",
   "metadata": {},
   "outputs": [],
   "source": [
    "#numpy -numerical python library\n",
    "#numpy array structure- same data tyoe\n",
    "#it is a library\n",
    "#before using it we have to install it\n",
    "import numpy as np\n"
   ]
  },
  {
   "cell_type": "code",
   "execution_count": null,
   "id": "242d755f",
   "metadata": {},
   "outputs": [
    {
     "data": {
      "text/plain": [
       "[1, 2, 3, 4, 5, 6, 7, 8, 9, 1, 2, 3, 4, 5, 6, 7, 8, 9]"
      ]
     },
     "execution_count": 11,
     "metadata": {},
     "output_type": "execute_result"
    }
   ],
   "source": [
    "a=[1,2,3,4,5,6,7,8,9]\n",
    "a*2\n",
    "\n",
    "#list is not able to perform numerical computatuion\n",
    "#it just concatinates\n"
   ]
  },
  {
   "cell_type": "code",
   "execution_count": null,
   "id": "615d5b62",
   "metadata": {},
   "outputs": [
    {
     "data": {
      "text/plain": [
       "array([ 2.4,  4.8,  7.2,  9.6, 12. , 14.4, 16.8, 19.2, 21.6])"
      ]
     },
     "execution_count": 16,
     "metadata": {},
     "output_type": "execute_result"
    }
   ],
   "source": [
    "a= np.array(a)\n",
    "a*2.4\n",
    "#we are unable to perform operation on list so "
   ]
  },
  {
   "cell_type": "code",
   "execution_count": 19,
   "id": "74b57fcb",
   "metadata": {},
   "outputs": [
    {
     "data": {
      "text/plain": [
       "array(['1', '2', '4', 'True', 'False', '(3+3j)', 'a'], dtype='<U64')"
      ]
     },
     "execution_count": 19,
     "metadata": {},
     "output_type": "execute_result"
    }
   ],
   "source": [
    "lst = [1,2,4,True,False,3+3j,'a']\n",
    "l1= np.array(lst)\n",
    "l1"
   ]
  },
  {
   "cell_type": "code",
   "execution_count": 31,
   "id": "02880adc",
   "metadata": {},
   "outputs": [
    {
     "name": "stdout",
     "output_type": "stream",
     "text": [
      "['abc']\n",
      "<class 'numpy.ndarray'>\n",
      "<U3\n"
     ]
    },
    {
     "data": {
      "text/plain": [
       "numpy.str_"
      ]
     },
     "execution_count": 31,
     "metadata": {},
     "output_type": "execute_result"
    }
   ],
   "source": [
    "#numpy array supports n number of dimensions\n",
    "list_1 =['abc']\n",
    "np_list_2 = np.array(list_1)\n",
    "print(np_list_2)\n",
    "print(type(np_list_2))\n",
    "print(np_list_2.dtype)\n",
    "np_list_2.dtype.type\n",
    "#u21 is encoded one,unable to tell you data type"
   ]
  },
  {
   "cell_type": "code",
   "execution_count": 33,
   "id": "01c554ca",
   "metadata": {},
   "outputs": [
    {
     "name": "stdout",
     "output_type": "stream",
     "text": [
      "(4,)\n",
      "1\n",
      "4\n"
     ]
    }
   ],
   "source": [
    "#checking shape,dimensions ,size\n",
    "#shape -num of rows and column\n",
    "list_2 =[5,1,2,3]\n",
    "arr = np.array(list_2)\n",
    "print(arr.shape)\n",
    "print(arr.ndim)\n",
    "print(arr.size)\n"
   ]
  },
  {
   "cell_type": "code",
   "execution_count": 40,
   "id": "b73c6f4d",
   "metadata": {},
   "outputs": [
    {
     "name": "stdout",
     "output_type": "stream",
     "text": [
      "(1, 1, 2, 3)\n",
      "4\n",
      "6\n"
     ]
    }
   ],
   "source": [
    "arr22 = np.array([\n",
    "\n",
    "[    [\n",
    "        [1,2,3],[2,3,4]\n",
    "        ]\n",
    "        ]\n",
    "        ])\n",
    "print(arr22.shape)\n",
    "print(arr22.ndim)\n",
    "print(arr22.size)"
   ]
  }
 ],
 "metadata": {
  "kernelspec": {
   "display_name": "Python 3",
   "language": "python",
   "name": "python3"
  },
  "language_info": {
   "codemirror_mode": {
    "name": "ipython",
    "version": 3
   },
   "file_extension": ".py",
   "mimetype": "text/x-python",
   "name": "python",
   "nbconvert_exporter": "python",
   "pygments_lexer": "ipython3",
   "version": "3.10.9"
  }
 },
 "nbformat": 4,
 "nbformat_minor": 5
}
