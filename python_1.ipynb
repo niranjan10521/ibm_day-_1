{
 "cells": [
  {
   "cell_type": "code",
   "execution_count": 1,
   "id": "572ce14b",
   "metadata": {},
   "outputs": [
    {
     "name": "stdout",
     "output_type": "stream",
     "text": [
      "hello world\n"
     ]
    }
   ],
   "source": [
    "print(\"hello world\")"
   ]
  },
  {
   "cell_type": "code",
   "execution_count": 2,
   "id": "1bc33746",
   "metadata": {},
   "outputs": [],
   "source": [
    "s1={1,5,8,3}\n",
    "s2={9,4,2,7,1}"
   ]
  },
  {
   "cell_type": "code",
   "execution_count": null,
   "id": "b2deb828",
   "metadata": {},
   "outputs": [],
   "source": [
    "s3=s1|s2 #thuis is union"
   ]
  },
  {
   "cell_type": "code",
   "execution_count": 4,
   "id": "a5889e1a",
   "metadata": {},
   "outputs": [
    {
     "data": {
      "text/plain": [
       "{1, 2, 3, 4, 5, 7, 8, 9}"
      ]
     },
     "execution_count": 4,
     "metadata": {},
     "output_type": "execute_result"
    }
   ],
   "source": [
    "s3"
   ]
  },
  {
   "cell_type": "code",
   "execution_count": 5,
   "id": "9e69efef",
   "metadata": {},
   "outputs": [],
   "source": [
    "sy_diff = s1.symmetric_difference(s2)"
   ]
  },
  {
   "cell_type": "code",
   "execution_count": null,
   "id": "e2c22909",
   "metadata": {},
   "outputs": [],
   "source": []
  },
  {
   "cell_type": "code",
   "execution_count": 7,
   "id": "42592645",
   "metadata": {},
   "outputs": [
    {
     "data": {
      "text/plain": [
       "True"
      ]
     },
     "execution_count": 7,
     "metadata": {},
     "output_type": "execute_result"
    }
   ],
   "source": [
    "#is subset or not\n",
    "s1.issubset(s1)"
   ]
  },
  {
   "cell_type": "code",
   "execution_count": 6,
   "id": "9c25f2b4",
   "metadata": {},
   "outputs": [
    {
     "data": {
      "text/plain": [
       "{2, 3, 4, 5, 7, 8, 9}"
      ]
     },
     "execution_count": 6,
     "metadata": {},
     "output_type": "execute_result"
    }
   ],
   "source": [
    "sy_diff"
   ]
  },
  {
   "cell_type": "code",
   "execution_count": null,
   "id": "d902067f",
   "metadata": {},
   "outputs": [],
   "source": [
    "#functions-for reusability\n",
    " #devide code in chunks\n",
    "#there are pre define functions :print(),len(),type()\n",
    "#user defined function:we can create our own functions\n",
    "# def function() : parameterized ,, non -par"
   ]
  },
  {
   "cell_type": "code",
   "execution_count": 9,
   "id": "0fd5e847",
   "metadata": {},
   "outputs": [
    {
     "name": "stdout",
     "output_type": "stream",
     "text": [
      "i am non par function\n"
     ]
    }
   ],
   "source": [
    "def fun1():\n",
    "    print(\"i am non par function\")\n",
    "#fuction will not work until we call it\n",
    "fun1()"
   ]
  },
  {
   "cell_type": "code",
   "execution_count": null,
   "id": "52303792",
   "metadata": {},
   "outputs": [
    {
     "name": "stdout",
     "output_type": "stream",
     "text": [
      "50\n"
     ]
    }
   ],
   "source": [
    "def par_fun( a , c):#whatever we have inside it those are parameters\n",
    "    print(a+c)\n",
    "par_fun(20,30)  #argument"
   ]
  },
  {
   "cell_type": "code",
   "execution_count": 17,
   "id": "5837a954",
   "metadata": {},
   "outputs": [],
   "source": [
    "v= par_fun(20,30)"
   ]
  },
  {
   "cell_type": "code",
   "execution_count": 18,
   "id": "e283922d",
   "metadata": {},
   "outputs": [
    {
     "data": {
      "text/plain": [
       "50"
      ]
     },
     "execution_count": 18,
     "metadata": {},
     "output_type": "execute_result"
    }
   ],
   "source": [
    "v"
   ]
  },
  {
   "cell_type": "code",
   "execution_count": 14,
   "id": "901d1b44",
   "metadata": {},
   "outputs": [],
   "source": [
    "def par_fun( a , c):#whatever we have inside it those are parameters\n",
    "    return a+c"
   ]
  },
  {
   "cell_type": "code",
   "execution_count": 16,
   "id": "f33a73e8",
   "metadata": {},
   "outputs": [
    {
     "data": {
      "text/plain": [
       "30"
      ]
     },
     "execution_count": 16,
     "metadata": {},
     "output_type": "execute_result"
    }
   ],
   "source": [
    "v= par_fun(10,20)\n",
    "v"
   ]
  },
  {
   "cell_type": "code",
   "execution_count": null,
   "id": "c821c1e5",
   "metadata": {},
   "outputs": [],
   "source": [
    "###ARGUMENTS\n",
    "#DEFAULT ARGUMENTS\n",
    "#POSITIONAL ARGUMENTS\n",
    "#KEYWORD ARGUMENTS\n",
    "##VARIABKE KENGTH ARGUMENTS\n",
    "#POSITIONAL ARGUMENTS\n",
    "#KEYWORD ARGUMENTS\n"
   ]
  },
  {
   "cell_type": "code",
   "execution_count": 20,
   "id": "f6f36db4",
   "metadata": {},
   "outputs": [
    {
     "data": {
      "text/plain": [
       "4050"
      ]
     },
     "execution_count": 20,
     "metadata": {},
     "output_type": "execute_result"
    }
   ],
   "source": [
    "def mul(a,b=90):\n",
    "    return a*b\n",
    "mul(45)"
   ]
  },
  {
   "cell_type": "code",
   "execution_count": 22,
   "id": "f79f807e",
   "metadata": {},
   "outputs": [
    {
     "data": {
      "text/plain": [
       "600"
      ]
     },
     "execution_count": 22,
     "metadata": {},
     "output_type": "execute_result"
    }
   ],
   "source": [
    "def muL(A,B):\n",
    "    return A *B\n",
    "mul(30,20)"
   ]
  },
  {
   "cell_type": "code",
   "execution_count": null,
   "id": "14e58f2f",
   "metadata": {},
   "outputs": [
    {
     "data": {
      "text/plain": [
       "(78, 'ABC')"
      ]
     },
     "execution_count": 1,
     "metadata": {},
     "output_type": "execute_result"
    }
   ],
   "source": [
    "def default_arg(a,b='ABC'):\n",
    "    return a,b\n",
    "default_arg(78)\n",
    "#this is default argument\n"
   ]
  },
  {
   "cell_type": "code",
   "execution_count": 3,
   "id": "dc93206a",
   "metadata": {},
   "outputs": [
    {
     "data": {
      "text/plain": [
       "50.24"
      ]
     },
     "execution_count": 3,
     "metadata": {},
     "output_type": "execute_result"
    }
   ],
   "source": [
    "def area(r,pi = 3.14):\n",
    "    return pi*r**2\n",
    "area(4)"
   ]
  },
  {
   "cell_type": "code",
   "execution_count": 10,
   "id": "8faf158a",
   "metadata": {},
   "outputs": [
    {
     "data": {
      "text/plain": [
       "50.24"
      ]
     },
     "execution_count": 10,
     "metadata": {},
     "output_type": "execute_result"
    }
   ],
   "source": [
    "#keyword argument\n",
    "def area(pi,r):\n",
    "    return pi*r**2\n",
    "area(r=4,pi = 3.14)"
   ]
  },
  {
   "cell_type": "code",
   "execution_count": 11,
   "id": "58528df5",
   "metadata": {},
   "outputs": [
    {
     "data": {
      "text/plain": [
       "(1, 9, 4, 5, 2, 7)"
      ]
     },
     "execution_count": 11,
     "metadata": {},
     "output_type": "execute_result"
    }
   ],
   "source": [
    "#variable length argument\n",
    "#def arb_arg(a1,a2,a3,a4)\n",
    "#for multiple positional arguments\n",
    "def arb_arg(*a):\n",
    "    return a\n",
    "arb_arg(1,9,4,5,2,7)"
   ]
  },
  {
   "cell_type": "code",
   "execution_count": 13,
   "id": "ec3c961b",
   "metadata": {},
   "outputs": [
    {
     "data": {
      "text/plain": [
       "(1, (9, 4, 5, 2, 7))"
      ]
     },
     "execution_count": 13,
     "metadata": {},
     "output_type": "execute_result"
    }
   ],
   "source": [
    "#arbitary arg\n",
    "def arb_arg(b,*a):\n",
    "    return b,a\n",
    "arb_arg(1,9,4,5,2,7)"
   ]
  },
  {
   "cell_type": "code",
   "execution_count": 22,
   "id": "c3a1487d",
   "metadata": {},
   "outputs": [
    {
     "data": {
      "text/plain": [
       "((1, 9, 4, 5), 2)"
      ]
     },
     "execution_count": 22,
     "metadata": {},
     "output_type": "execute_result"
    }
   ],
   "source": [
    "#arbitary arg\n",
    "def arb_arg(*a,b):\n",
    "    return a,b\n",
    "arb_arg(1,9,4,5,b=2)"
   ]
  },
  {
   "cell_type": "code",
   "execution_count": 24,
   "id": "afd2418d",
   "metadata": {},
   "outputs": [
    {
     "data": {
      "text/plain": [
       "{'a': 3, 'b': 4, 'c': 5, 'd': 6, 'e': 2}"
      ]
     },
     "execution_count": 24,
     "metadata": {},
     "output_type": "execute_result"
    }
   ],
   "source": [
    "##arbitary keybord arg==key:value\n",
    "\n",
    "def key_arg(**k):\n",
    "    return k\n",
    "key_arg(a=3,b=4,c=5,d=6,e=2)"
   ]
  },
  {
   "cell_type": "code",
   "execution_count": 25,
   "id": "82434a60",
   "metadata": {},
   "outputs": [
    {
     "name": "stdout",
     "output_type": "stream",
     "text": [
      "{'a': 3, 'b': 4, 'c': 5, 'd': 6, 'e': 2}\n",
      "{'a': 3, 'b': 4, 'c': 5, 'd': 6, 'e': 2}\n",
      "{'a': 3, 'b': 4, 'c': 5, 'd': 6, 'e': 2}\n",
      "{'a': 3, 'b': 4, 'c': 5, 'd': 6, 'e': 2}\n",
      "{'a': 3, 'b': 4, 'c': 5, 'd': 6, 'e': 2}\n"
     ]
    }
   ],
   "source": [
    "##arbitary keybord arg==key:value\n",
    "\n",
    "def key_arg(**k):\n",
    "    for j,l in k.items():\n",
    "        print(k)\n",
    "key_arg(a=3,b=4,c=5,d=6,e=2)"
   ]
  },
  {
   "cell_type": "code",
   "execution_count": 29,
   "id": "8c65ba8a",
   "metadata": {},
   "outputs": [
    {
     "name": "stdout",
     "output_type": "stream",
     "text": [
      "['a'] [3]\n",
      "['a', 'b'] [3, 4]\n",
      "['a', 'b', 'c'] [3, 4, 5]\n",
      "['a', 'b', 'c', 'd'] [3, 4, 5, 6]\n",
      "['a', 'b', 'c', 'd', 'e'] [3, 4, 5, 6, 2]\n"
     ]
    }
   ],
   "source": [
    "key =[]\n",
    "value =[]\n",
    "def key_arg(**k):\n",
    "    for j, l in k.items():\n",
    "        key.append(j)\n",
    "        value.append(l)\n",
    "        print( key ,value)\n",
    "key_arg(a=3,b=4,c=5,d=6,e=2)"
   ]
  },
  {
   "cell_type": "code",
   "execution_count": null,
   "id": "4e13d81a",
   "metadata": {},
   "outputs": [
    {
     "ename": "SyntaxError",
     "evalue": "incomplete input (4293494963.py, line 3)",
     "output_type": "error",
     "traceback": [
      "\u001b[1;36m  Cell \u001b[1;32mIn[30], line 3\u001b[1;36m\u001b[0m\n\u001b[1;33m    for i,l  in enumerate(values):\u001b[0m\n\u001b[1;37m                                  ^\u001b[0m\n\u001b[1;31mSyntaxError\u001b[0m\u001b[1;31m:\u001b[0m incomplete input\n"
     ]
    }
   ],
   "source": [
    "d ={}\n",
    "d.fromkeys(key)\n",
    "for i,l  in enumerate(values):\n",
    "    d.update({'a':})\n"
   ]
  },
  {
   "cell_type": "code",
   "execution_count": 3,
   "id": "fbb74029",
   "metadata": {},
   "outputs": [
    {
     "name": "stdout",
     "output_type": "stream",
     "text": [
      "{'a': 3, 'b': 4, 'c': 5, 'd': 6}\n"
     ]
    }
   ],
   "source": [
    "key = ['a','b','c','d']\n",
    "value =[3,4,5,6,7,8]\n",
    "d={}\n",
    "for i in range(len(key)):\n",
    "    d[key[i]]=value[i]\n",
    "print(d)\n",
    "#this is a dictionary and we are assigming key and value to it"
   ]
  },
  {
   "cell_type": "code",
   "execution_count": null,
   "id": "9d757639",
   "metadata": {},
   "outputs": [],
   "source": [
    "#object oriented programing\n",
    "#classes\n",
    "#objects\n",
    "#inheritance\n",
    "#encapsulation\n",
    "#abstraction -hide useless things\n",
    "#polymorphism-"
   ]
  },
  {
   "cell_type": "code",
   "execution_count": 4,
   "id": "0cf32af4",
   "metadata": {},
   "outputs": [
    {
     "name": "stdout",
     "output_type": "stream",
     "text": [
      "i am a class method\n"
     ]
    }
   ],
   "source": [
    "#classes\n",
    "class Human:\n",
    "    # data members\n",
    "    v=45\n",
    "    ##member function\n",
    "    def fun(self):#non -parameterized\n",
    "#you have to pass the parameter inside class\n",
    "        print(\"i am a class method\")\n",
    "#we have to creaaate a object of clas if we want to see waht function does\n",
    "obj = Human() ##constructor\n",
    "obj.fun()\n"
   ]
  },
  {
   "cell_type": "code",
   "execution_count": 7,
   "id": "3a7614cd",
   "metadata": {},
   "outputs": [
    {
     "name": "stderr",
     "output_type": "stream",
     "text": [
      "\n",
      "[notice] A new release of pip is available: 25.1.1 -> 25.2\n",
      "[notice] To update, run: python.exe -m pip install --upgrade pip\n"
     ]
    },
    {
     "name": "stdout",
     "output_type": "stream",
     "text": [
      "Requirement already satisfied: numpy in c:\\users\\niraj\\appdata\\local\\programs\\python\\python310\\lib\\site-packages (2.0.2)\n"
     ]
    }
   ],
   "source": [
    "#numpy\n",
    "#numpy is an library\n",
    "!pip install numpy\n",
    "import numpy as np"
   ]
  },
  {
   "cell_type": "code",
   "execution_count": null,
   "id": "6f9f1c46",
   "metadata": {},
   "outputs": [],
   "source": [
    "##method to create arrays\n",
    "#array()\n",
    "#arange()\n",
    "#linspce()\n",
    "#ones()\n",
    "#zeros()\n",
    "#eye()\n",
    "#random array\n",
    "#rand()===>0,1\n",
    "#randint(start,end)\n",
    "#uniform)(start,end)"
   ]
  },
  {
   "cell_type": "code",
   "execution_count": 15,
   "id": "fe5974b2",
   "metadata": {},
   "outputs": [
    {
     "ename": "TypeError",
     "evalue": "'module' object is not callable",
     "output_type": "error",
     "traceback": [
      "\u001b[1;31m---------------------------------------------------------------------------\u001b[0m",
      "\u001b[1;31mTypeError\u001b[0m                                 Traceback (most recent call last)",
      "Cell \u001b[1;32mIn[15], line 2\u001b[0m\n\u001b[0;32m      1\u001b[0m list1\u001b[38;5;241m=\u001b[39m [\u001b[38;5;241m1\u001b[39m,\u001b[38;5;241m2\u001b[39m,\u001b[38;5;241m3\u001b[39m,\u001b[38;5;241m4\u001b[39m,\u001b[38;5;241m5\u001b[39m,\u001b[38;5;241m6\u001b[39m]\n\u001b[1;32m----> 2\u001b[0m arr2 \u001b[38;5;241m=\u001b[39m \u001b[43mnp\u001b[49m\u001b[38;5;241;43m.\u001b[39;49m\u001b[43mrandom\u001b[49m\u001b[43m(\u001b[49m\u001b[43mlist1\u001b[49m\u001b[43m)\u001b[49m\n\u001b[0;32m      3\u001b[0m \u001b[38;5;28mprint\u001b[39m(arr2)\n",
      "\u001b[1;31mTypeError\u001b[0m: 'module' object is not callable"
     ]
    }
   ],
   "source": [
    "list1= [1,2,3,4,5,6]\n",
    "arr2 = np.random(list1)\n",
    "print(arr2)"
   ]
  },
  {
   "cell_type": "code",
   "execution_count": 14,
   "id": "1dc69a09",
   "metadata": {},
   "outputs": [
    {
     "ename": "TypeError",
     "evalue": "'list' object cannot be interpreted as an integer",
     "output_type": "error",
     "traceback": [
      "\u001b[1;31m---------------------------------------------------------------------------\u001b[0m",
      "\u001b[1;31mTypeError\u001b[0m                                 Traceback (most recent call last)",
      "Cell \u001b[1;32mIn[14], line 2\u001b[0m\n\u001b[0;32m      1\u001b[0m list2\u001b[38;5;241m=\u001b[39m [\u001b[38;5;241m1\u001b[39m,\u001b[38;5;241m2\u001b[39m,\u001b[38;5;241m3\u001b[39m,\u001b[38;5;241m4\u001b[39m,\u001b[38;5;241m5\u001b[39m,\u001b[38;5;241m6\u001b[39m]\n\u001b[1;32m----> 2\u001b[0m arr3 \u001b[38;5;241m=\u001b[39m \u001b[43mnp\u001b[49m\u001b[38;5;241;43m.\u001b[39;49m\u001b[43meye\u001b[49m\u001b[43m(\u001b[49m\u001b[43mlist2\u001b[49m\u001b[43m)\u001b[49m\n\u001b[0;32m      3\u001b[0m \u001b[38;5;28mprint\u001b[39m(arr3)\n",
      "File \u001b[1;32mc:\\Users\\niraj\\AppData\\Local\\Programs\\Python\\Python310\\lib\\site-packages\\numpy\\lib\\_twodim_base_impl.py:219\u001b[0m, in \u001b[0;36meye\u001b[1;34m(N, M, k, dtype, order, device, like)\u001b[0m\n\u001b[0;32m    217\u001b[0m \u001b[38;5;28;01mif\u001b[39;00m M \u001b[38;5;129;01mis\u001b[39;00m \u001b[38;5;28;01mNone\u001b[39;00m:\n\u001b[0;32m    218\u001b[0m     M \u001b[38;5;241m=\u001b[39m N\n\u001b[1;32m--> 219\u001b[0m m \u001b[38;5;241m=\u001b[39m \u001b[43mzeros\u001b[49m\u001b[43m(\u001b[49m\u001b[43m(\u001b[49m\u001b[43mN\u001b[49m\u001b[43m,\u001b[49m\u001b[43m \u001b[49m\u001b[43mM\u001b[49m\u001b[43m)\u001b[49m\u001b[43m,\u001b[49m\u001b[43m \u001b[49m\u001b[43mdtype\u001b[49m\u001b[38;5;241;43m=\u001b[39;49m\u001b[43mdtype\u001b[49m\u001b[43m,\u001b[49m\u001b[43m \u001b[49m\u001b[43morder\u001b[49m\u001b[38;5;241;43m=\u001b[39;49m\u001b[43morder\u001b[49m\u001b[43m,\u001b[49m\u001b[43m \u001b[49m\u001b[43mdevice\u001b[49m\u001b[38;5;241;43m=\u001b[39;49m\u001b[43mdevice\u001b[49m\u001b[43m)\u001b[49m\n\u001b[0;32m    220\u001b[0m \u001b[38;5;28;01mif\u001b[39;00m k \u001b[38;5;241m>\u001b[39m\u001b[38;5;241m=\u001b[39m M:\n\u001b[0;32m    221\u001b[0m     \u001b[38;5;28;01mreturn\u001b[39;00m m\n",
      "\u001b[1;31mTypeError\u001b[0m: 'list' object cannot be interpreted as an integer"
     ]
    }
   ],
   "source": [
    "list2= [1,2,3,4,5,6]\n",
    "arr3 = np.eye(list2)\n",
    "print(arr3)"
   ]
  }
 ],
 "metadata": {
  "kernelspec": {
   "display_name": "Python 3",
   "language": "python",
   "name": "python3"
  },
  "language_info": {
   "codemirror_mode": {
    "name": "ipython",
    "version": 3
   },
   "file_extension": ".py",
   "mimetype": "text/x-python",
   "name": "python",
   "nbconvert_exporter": "python",
   "pygments_lexer": "ipython3",
   "version": "3.10.9"
  }
 },
 "nbformat": 4,
 "nbformat_minor": 5
}
