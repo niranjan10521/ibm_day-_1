{
 "cells": [
  {
   "cell_type": "code",
   "execution_count": 1,
   "id": "572ce14b",
   "metadata": {},
   "outputs": [
    {
     "name": "stdout",
     "output_type": "stream",
     "text": [
      "hello world\n"
     ]
    }
   ],
   "source": [
    "print(\"hello world\")"
   ]
  },
  {
   "cell_type": "code",
   "execution_count": 2,
   "id": "1bc33746",
   "metadata": {},
   "outputs": [],
   "source": [
    "s1={1,5,8,3}\n",
    "s2={9,4,2,7,1}"
   ]
  },
  {
   "cell_type": "code",
   "execution_count": null,
   "id": "b2deb828",
   "metadata": {},
   "outputs": [],
   "source": [
    "s3=s1|s2 #thuis is union"
   ]
  },
  {
   "cell_type": "code",
   "execution_count": 4,
   "id": "a5889e1a",
   "metadata": {},
   "outputs": [
    {
     "data": {
      "text/plain": [
       "{1, 2, 3, 4, 5, 7, 8, 9}"
      ]
     },
     "execution_count": 4,
     "metadata": {},
     "output_type": "execute_result"
    }
   ],
   "source": [
    "s3"
   ]
  },
  {
   "cell_type": "code",
   "execution_count": 5,
   "id": "9e69efef",
   "metadata": {},
   "outputs": [],
   "source": [
    "sy_diff = s1.symmetric_difference(s2)"
   ]
  },
  {
   "cell_type": "code",
   "execution_count": null,
   "id": "e2c22909",
   "metadata": {},
   "outputs": [],
   "source": []
  },
  {
   "cell_type": "code",
   "execution_count": 7,
   "id": "42592645",
   "metadata": {},
   "outputs": [
    {
     "data": {
      "text/plain": [
       "True"
      ]
     },
     "execution_count": 7,
     "metadata": {},
     "output_type": "execute_result"
    }
   ],
   "source": [
    "#is subset or not\n",
    "s1.issubset(s1)"
   ]
  },
  {
   "cell_type": "code",
   "execution_count": 6,
   "id": "9c25f2b4",
   "metadata": {},
   "outputs": [
    {
     "data": {
      "text/plain": [
       "{2, 3, 4, 5, 7, 8, 9}"
      ]
     },
     "execution_count": 6,
     "metadata": {},
     "output_type": "execute_result"
    }
   ],
   "source": [
    "sy_diff"
   ]
  },
  {
   "cell_type": "code",
   "execution_count": null,
   "id": "d902067f",
   "metadata": {},
   "outputs": [],
   "source": [
    "#functions-for reusability\n",
    " #devide code in chunks\n",
    "#there are pre define functions :print(),len(),type()\n",
    "#user defined function:we can create our own functions\n",
    "# def function() : parameterized ,, non -par"
   ]
  },
  {
   "cell_type": "code",
   "execution_count": 9,
   "id": "0fd5e847",
   "metadata": {},
   "outputs": [
    {
     "name": "stdout",
     "output_type": "stream",
     "text": [
      "i am non par function\n"
     ]
    }
   ],
   "source": [
    "def fun1():\n",
    "    print(\"i am non par function\")\n",
    "#fuction will not work until we call it\n",
    "fun1()"
   ]
  },
  {
   "cell_type": "code",
   "execution_count": null,
   "id": "52303792",
   "metadata": {},
   "outputs": [
    {
     "name": "stdout",
     "output_type": "stream",
     "text": [
      "50\n"
     ]
    }
   ],
   "source": [
    "def par_fun( a , c):#whatever we have inside it those are parameters\n",
    "    print(a+c)\n",
    "par_fun(20,30)  #argument"
   ]
  },
  {
   "cell_type": "code",
   "execution_count": 17,
   "id": "5837a954",
   "metadata": {},
   "outputs": [],
   "source": [
    "v= par_fun(20,30)"
   ]
  },
  {
   "cell_type": "code",
   "execution_count": 18,
   "id": "e283922d",
   "metadata": {},
   "outputs": [
    {
     "data": {
      "text/plain": [
       "50"
      ]
     },
     "execution_count": 18,
     "metadata": {},
     "output_type": "execute_result"
    }
   ],
   "source": [
    "v"
   ]
  },
  {
   "cell_type": "code",
   "execution_count": 14,
   "id": "901d1b44",
   "metadata": {},
   "outputs": [],
   "source": [
    "def par_fun( a , c):#whatever we have inside it those are parameters\n",
    "    return a+c"
   ]
  },
  {
   "cell_type": "code",
   "execution_count": 16,
   "id": "f33a73e8",
   "metadata": {},
   "outputs": [
    {
     "data": {
      "text/plain": [
       "30"
      ]
     },
     "execution_count": 16,
     "metadata": {},
     "output_type": "execute_result"
    }
   ],
   "source": [
    "v= par_fun(10,20)\n",
    "v"
   ]
  },
  {
   "cell_type": "code",
   "execution_count": null,
   "id": "c821c1e5",
   "metadata": {},
   "outputs": [],
   "source": [
    "###ARGUMENTS\n",
    "#DEFAULT ARGUMENTS\n",
    "#POSITIONAL ARGUMENTS\n",
    "#KEYWORD ARGUMENTS\n",
    "##VARIABKE KENGTH ARGUMENTS\n",
    "#POSITIONAL ARGUMENTS\n",
    "#KEYWORD ARGUMENTS\n"
   ]
  },
  {
   "cell_type": "code",
   "execution_count": 20,
   "id": "f6f36db4",
   "metadata": {},
   "outputs": [
    {
     "data": {
      "text/plain": [
       "4050"
      ]
     },
     "execution_count": 20,
     "metadata": {},
     "output_type": "execute_result"
    }
   ],
   "source": [
    "def mul(a,b=90):\n",
    "    return a*b\n",
    "mul(45)"
   ]
  },
  {
   "cell_type": "code",
   "execution_count": 22,
   "id": "f79f807e",
   "metadata": {},
   "outputs": [
    {
     "data": {
      "text/plain": [
       "600"
      ]
     },
     "execution_count": 22,
     "metadata": {},
     "output_type": "execute_result"
    }
   ],
   "source": [
    "def muL(A,B):\n",
    "    return A *B\n",
    "mul(30,20)"
   ]
  },
  {
   "cell_type": "code",
   "execution_count": null,
   "id": "14e58f2f",
   "metadata": {},
   "outputs": [
    {
     "data": {
      "text/plain": [
       "(78, 'ABC')"
      ]
     },
     "execution_count": 1,
     "metadata": {},
     "output_type": "execute_result"
    }
   ],
   "source": [
    "def default_arg(a,b='ABC'):\n",
    "    return a,b\n",
    "default_arg(78)\n",
    "#this is default argument\n"
   ]
  }
 ],
 "metadata": {
  "kernelspec": {
   "display_name": "Python 3",
   "language": "python",
   "name": "python3"
  },
  "language_info": {
   "codemirror_mode": {
    "name": "ipython",
    "version": 3
   },
   "file_extension": ".py",
   "mimetype": "text/x-python",
   "name": "python",
   "nbconvert_exporter": "python",
   "pygments_lexer": "ipython3",
   "version": "3.10.9"
  }
 },
 "nbformat": 4,
 "nbformat_minor": 5
}
