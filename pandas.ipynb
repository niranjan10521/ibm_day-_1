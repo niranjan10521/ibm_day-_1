{
 "cells": [
  {
   "cell_type": "code",
   "execution_count": null,
   "id": "5413c2c5",
   "metadata": {},
   "outputs": [],
   "source": [
    "\"\"\"\n",
    "relationbal datset \n",
    "for data analysis\n",
    "pandas will provide flexubility\n",
    "tabular structured data \n",
    "data drame - 2d data structue/greater data visualization\n",
    "\n",
    "\"\"\""
   ]
  },
  {
   "cell_type": "code",
   "execution_count": null,
   "id": "84b303f0",
   "metadata": {},
   "outputs": [],
   "source": [
    "import pandas as pd\n",
    "student = pd.DataFrame({})"
   ]
  }
 ],
 "metadata": {
  "language_info": {
   "name": "python"
  }
 },
 "nbformat": 4,
 "nbformat_minor": 5
}
