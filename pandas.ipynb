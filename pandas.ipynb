{
 "cells": [
  {
   "cell_type": "code",
   "execution_count": null,
   "id": "5413c2c5",
   "metadata": {},
   "outputs": [],
   "source": [
    "\"\"\"\n",
    "relationbal datset \n",
    "for data analysis\n",
    "pandas will provide flexubility\n",
    "tabular structured data \n",
    "data drame - 2d data structue/greater data visualization\n",
    "\n",
    "\"\"\""
   ]
  },
  {
   "cell_type": "code",
   "execution_count": null,
   "id": "84b303f0",
   "metadata": {},
   "outputs": [],
   "source": [
    "import pandas as pd\n",
    "student = pd.DataFrame({})"
   ]
  },
  {
   "cell_type": "code",
   "execution_count": 8,
   "id": "81f43297",
   "metadata": {},
   "outputs": [
    {
     "data": {
      "text/plain": [
       "array([4, 1, 2, 3, 4, 4])"
      ]
     },
     "execution_count": 8,
     "metadata": {},
     "output_type": "execute_result"
    }
   ],
   "source": [
    "l1= [1,2,3,4]\n",
    "import numpy as np\n",
    "arr = np.array(l1)\n",
    "np.pad(arr,(1,1),\"maximum\")"
   ]
  },
  {
   "cell_type": "code",
   "execution_count": null,
   "id": "42957150",
   "metadata": {},
   "outputs": [],
   "source": [
    "\"\"\"\n",
    "pandas is creaated for tabular dat a\n",
    "we have multiple column\n",
    "hommogeneoud or hetrogeneous data\n",
    "any other form of observational / statical data\n",
    "the data need not to lebelles\n",
    "two primary data structure\n",
    "series 1 dimensional data \n",
    "data frame = 2 dimensional\n",
    "\"\"\""
   ]
  },
  {
   "cell_type": "code",
   "execution_count": 16,
   "id": "f0080dc5",
   "metadata": {},
   "outputs": [
    {
     "name": "stdout",
     "output_type": "stream",
     "text": [
      "ser= student_name        [a, b, c, d]\n",
      "marks           [20, 30, 40, 50]\n",
      "dtype: object\n",
      "  student_name  marks\n",
      "0            a     20\n",
      "1            b     30\n",
      "2            c     40\n",
      "3            d     50\n"
     ]
    }
   ],
   "source": [
    "import pandas as pd \n",
    "l =({'student_name':['a','b','c','d'],'marks':[20,30,40,50]})\n",
    "ser = pd.Series(l)\n",
    "print(\"ser=\",ser )\n",
    "data_frame = pd.DataFrame(l)\n",
    "print(data_frame)"
   ]
  },
  {
   "cell_type": "code",
   "execution_count": 17,
   "id": "f8ec22ed",
   "metadata": {},
   "outputs": [],
   "source": [
    "dic ={\n",
    "    'california':3000000,\n",
    "    \"new_york\":4000000,\n",
    "    'kathmandu':3000000,\n",
    "    'pokhara':4000000\n",
    "\n",
    "}"
   ]
  },
  {
   "cell_type": "code",
   "execution_count": 18,
   "id": "3820f072",
   "metadata": {},
   "outputs": [
    {
     "data": {
      "text/plain": [
       "dict"
      ]
     },
     "execution_count": 18,
     "metadata": {},
     "output_type": "execute_result"
    }
   ],
   "source": [
    "type(dic)"
   ]
  },
  {
   "cell_type": "code",
   "execution_count": 21,
   "id": "c3b4f44c",
   "metadata": {},
   "outputs": [
    {
     "data": {
      "text/plain": [
       "california    3000000\n",
       "new_york      4000000\n",
       "kathmandu     3000000\n",
       "pokhara       4000000\n",
       "dtype: int64"
      ]
     },
     "execution_count": 21,
     "metadata": {},
     "output_type": "execute_result"
    }
   ],
   "source": [
    "population = pd.Series(dic)\n",
    "population"
   ]
  },
  {
   "cell_type": "code",
   "execution_count": 25,
   "id": "24cac849",
   "metadata": {},
   "outputs": [
    {
     "name": "stderr",
     "output_type": "stream",
     "text": [
      "C:\\Users\\niraj\\AppData\\Local\\Temp\\ipykernel_300\\1060304497.py:1: FutureWarning: Series.__getitem__ treating keys as positions is deprecated. In a future version, integer keys will always be treated as labels (consistent with DataFrame behavior). To access a value by position, use `ser.iloc[pos]`\n",
      "  population[ 2]\n"
     ]
    },
    {
     "data": {
      "text/plain": [
       "np.int64(3000000)"
      ]
     },
     "execution_count": 25,
     "metadata": {},
     "output_type": "execute_result"
    }
   ],
   "source": [
    "population[ 2]\n",
    "#to find the value from key "
   ]
  },
  {
   "cell_type": "code",
   "execution_count": 30,
   "id": "a1139693",
   "metadata": {},
   "outputs": [
    {
     "data": {
      "text/plain": [
       "100    5\n",
       "200    2\n",
       "dtype: int64"
      ]
     },
     "execution_count": 30,
     "metadata": {},
     "output_type": "execute_result"
    }
   ],
   "source": [
    "pd.Series([5,2],index=[100,200])"
   ]
  },
  {
   "cell_type": "code",
   "execution_count": 36,
   "id": "285b4878",
   "metadata": {},
   "outputs": [
    {
     "data": {
      "text/html": [
       "<div>\n",
       "<style scoped>\n",
       "    .dataframe tbody tr th:only-of-type {\n",
       "        vertical-align: middle;\n",
       "    }\n",
       "\n",
       "    .dataframe tbody tr th {\n",
       "        vertical-align: top;\n",
       "    }\n",
       "\n",
       "    .dataframe thead th {\n",
       "        text-align: right;\n",
       "    }\n",
       "</style>\n",
       "<table border=\"1\" class=\"dataframe\">\n",
       "  <thead>\n",
       "    <tr style=\"text-align: right;\">\n",
       "      <th></th>\n",
       "      <th>califonia</th>\n",
       "      <th>texas</th>\n",
       "      <th>new york</th>\n",
       "      <th>florida</th>\n",
       "    </tr>\n",
       "  </thead>\n",
       "  <tbody>\n",
       "    <tr>\n",
       "      <th>population</th>\n",
       "      <td>1111111</td>\n",
       "      <td>2222222</td>\n",
       "      <td>3333333</td>\n",
       "      <td>78230000</td>\n",
       "    </tr>\n",
       "    <tr>\n",
       "      <th>state</th>\n",
       "      <td>1111111</td>\n",
       "      <td>2222222</td>\n",
       "      <td>3333333</td>\n",
       "      <td>78230000</td>\n",
       "    </tr>\n",
       "  </tbody>\n",
       "</table>\n",
       "</div>"
      ],
      "text/plain": [
       "            califonia     texas  new york   florida\n",
       "population     1111111  2222222   3333333  78230000\n",
       "state          1111111  2222222   3333333  78230000"
      ]
     },
     "execution_count": 36,
     "metadata": {},
     "output_type": "execute_result"
    }
   ],
   "source": [
    "#DataFrame\n",
    "population_dict = {\n",
    "    'califonia ':1111111,\n",
    "    \"texas\":2222222,\n",
    "    'new york':3333333,\n",
    "    'florida':78230000\n",
    "}\n",
    "\n",
    "df = pd.DataFrame(population_dict,index =(\"population\",'state'))\n",
    "df"
   ]
  },
  {
   "cell_type": "code",
   "execution_count": 37,
   "id": "ef843d28",
   "metadata": {},
   "outputs": [
    {
     "data": {
      "text/plain": [
       "(2, 4)"
      ]
     },
     "execution_count": 37,
     "metadata": {},
     "output_type": "execute_result"
    }
   ],
   "source": [
    "df.shape"
   ]
  },
  {
   "cell_type": "code",
   "execution_count": 38,
   "id": "f7d3d413",
   "metadata": {},
   "outputs": [
    {
     "data": {
      "text/html": [
       "<div>\n",
       "<style scoped>\n",
       "    .dataframe tbody tr th:only-of-type {\n",
       "        vertical-align: middle;\n",
       "    }\n",
       "\n",
       "    .dataframe tbody tr th {\n",
       "        vertical-align: top;\n",
       "    }\n",
       "\n",
       "    .dataframe thead th {\n",
       "        text-align: right;\n",
       "    }\n",
       "</style>\n",
       "<table border=\"1\" class=\"dataframe\">\n",
       "  <thead>\n",
       "    <tr style=\"text-align: right;\">\n",
       "      <th></th>\n",
       "      <th>Name</th>\n",
       "      <th>Age</th>\n",
       "      <th>City</th>\n",
       "      <th>Score</th>\n",
       "      <th>Passed</th>\n",
       "    </tr>\n",
       "  </thead>\n",
       "  <tbody>\n",
       "    <tr>\n",
       "      <th>name</th>\n",
       "      <td>Alice</td>\n",
       "      <td>23</td>\n",
       "      <td>Kathmandu</td>\n",
       "      <td>85</td>\n",
       "      <td>True</td>\n",
       "    </tr>\n",
       "    <tr>\n",
       "      <th>age</th>\n",
       "      <td>Bob</td>\n",
       "      <td>30</td>\n",
       "      <td>Pokhara</td>\n",
       "      <td>90</td>\n",
       "      <td>True</td>\n",
       "    </tr>\n",
       "    <tr>\n",
       "      <th>location</th>\n",
       "      <td>Charlie</td>\n",
       "      <td>27</td>\n",
       "      <td>Lalitpur</td>\n",
       "      <td>78</td>\n",
       "      <td>False</td>\n",
       "    </tr>\n",
       "    <tr>\n",
       "      <th>score</th>\n",
       "      <td>David</td>\n",
       "      <td>35</td>\n",
       "      <td>Biratnagar</td>\n",
       "      <td>92</td>\n",
       "      <td>True</td>\n",
       "    </tr>\n",
       "    <tr>\n",
       "      <th>passed</th>\n",
       "      <td>Eva</td>\n",
       "      <td>29</td>\n",
       "      <td>Butwal</td>\n",
       "      <td>88</td>\n",
       "      <td>True</td>\n",
       "    </tr>\n",
       "  </tbody>\n",
       "</table>\n",
       "</div>"
      ],
      "text/plain": [
       "             Name  Age        City  Score  Passed\n",
       "name        Alice   23   Kathmandu     85    True\n",
       "age           Bob   30     Pokhara     90    True\n",
       "location  Charlie   27    Lalitpur     78   False\n",
       "score       David   35  Biratnagar     92    True\n",
       "passed        Eva   29      Butwal     88    True"
      ]
     },
     "execution_count": 38,
     "metadata": {},
     "output_type": "execute_result"
    }
   ],
   "source": [
    "d1 ={\"Name\": [\"Alice\", \"Bob\", \"Charlie\", \"David\", \"Eva\"],\n",
    "\"Age\": [23, 30, 27, 35, 29],\n",
    "\"City\": [\"Kathmandu\", \"Pokhara\", \"Lalitpur\", \"Biratnagar\", \"Butwal\"],\n",
    "\"Score\": [85, 90, 78, 92, 88],\n",
    "\"Passed\": [True, True, False, True, True]}\n",
    "d2=pd.DataFrame(d1,index=('name' , 'age' ,'location' ,'score','passed'))\n",
    "d2"
   ]
  },
  {
   "cell_type": "code",
   "execution_count": 40,
   "id": "47d602cd",
   "metadata": {},
   "outputs": [
    {
     "data": {
      "text/html": [
       "<div>\n",
       "<style scoped>\n",
       "    .dataframe tbody tr th:only-of-type {\n",
       "        vertical-align: middle;\n",
       "    }\n",
       "\n",
       "    .dataframe tbody tr th {\n",
       "        vertical-align: top;\n",
       "    }\n",
       "\n",
       "    .dataframe thead th {\n",
       "        text-align: right;\n",
       "    }\n",
       "</style>\n",
       "<table border=\"1\" class=\"dataframe\">\n",
       "  <thead>\n",
       "    <tr style=\"text-align: right;\">\n",
       "      <th></th>\n",
       "      <th>Age</th>\n",
       "      <th>Score</th>\n",
       "    </tr>\n",
       "  </thead>\n",
       "  <tbody>\n",
       "    <tr>\n",
       "      <th>count</th>\n",
       "      <td>5.00000</td>\n",
       "      <td>5.000000</td>\n",
       "    </tr>\n",
       "    <tr>\n",
       "      <th>mean</th>\n",
       "      <td>28.80000</td>\n",
       "      <td>86.600000</td>\n",
       "    </tr>\n",
       "    <tr>\n",
       "      <th>std</th>\n",
       "      <td>4.38178</td>\n",
       "      <td>5.458938</td>\n",
       "    </tr>\n",
       "    <tr>\n",
       "      <th>min</th>\n",
       "      <td>23.00000</td>\n",
       "      <td>78.000000</td>\n",
       "    </tr>\n",
       "    <tr>\n",
       "      <th>25%</th>\n",
       "      <td>27.00000</td>\n",
       "      <td>85.000000</td>\n",
       "    </tr>\n",
       "    <tr>\n",
       "      <th>50%</th>\n",
       "      <td>29.00000</td>\n",
       "      <td>88.000000</td>\n",
       "    </tr>\n",
       "    <tr>\n",
       "      <th>75%</th>\n",
       "      <td>30.00000</td>\n",
       "      <td>90.000000</td>\n",
       "    </tr>\n",
       "    <tr>\n",
       "      <th>max</th>\n",
       "      <td>35.00000</td>\n",
       "      <td>92.000000</td>\n",
       "    </tr>\n",
       "  </tbody>\n",
       "</table>\n",
       "</div>"
      ],
      "text/plain": [
       "            Age      Score\n",
       "count   5.00000   5.000000\n",
       "mean   28.80000  86.600000\n",
       "std     4.38178   5.458938\n",
       "min    23.00000  78.000000\n",
       "25%    27.00000  85.000000\n",
       "50%    29.00000  88.000000\n",
       "75%    30.00000  90.000000\n",
       "max    35.00000  92.000000"
      ]
     },
     "execution_count": 40,
     "metadata": {},
     "output_type": "execute_result"
    }
   ],
   "source": [
    "d2.describe()"
   ]
  },
  {
   "cell_type": "code",
   "execution_count": 43,
   "id": "d3163a9b",
   "metadata": {},
   "outputs": [
    {
     "data": {
      "text/html": [
       "<div>\n",
       "<style scoped>\n",
       "    .dataframe tbody tr th:only-of-type {\n",
       "        vertical-align: middle;\n",
       "    }\n",
       "\n",
       "    .dataframe tbody tr th {\n",
       "        vertical-align: top;\n",
       "    }\n",
       "\n",
       "    .dataframe thead th {\n",
       "        text-align: right;\n",
       "    }\n",
       "</style>\n",
       "<table border=\"1\" class=\"dataframe\">\n",
       "  <thead>\n",
       "    <tr style=\"text-align: right;\">\n",
       "      <th></th>\n",
       "      <th>Name</th>\n",
       "      <th>City</th>\n",
       "    </tr>\n",
       "  </thead>\n",
       "  <tbody>\n",
       "    <tr>\n",
       "      <th>count</th>\n",
       "      <td>5</td>\n",
       "      <td>5</td>\n",
       "    </tr>\n",
       "    <tr>\n",
       "      <th>unique</th>\n",
       "      <td>5</td>\n",
       "      <td>5</td>\n",
       "    </tr>\n",
       "    <tr>\n",
       "      <th>top</th>\n",
       "      <td>Alice</td>\n",
       "      <td>Kathmandu</td>\n",
       "    </tr>\n",
       "    <tr>\n",
       "      <th>freq</th>\n",
       "      <td>1</td>\n",
       "      <td>1</td>\n",
       "    </tr>\n",
       "  </tbody>\n",
       "</table>\n",
       "</div>"
      ],
      "text/plain": [
       "         Name       City\n",
       "count       5          5\n",
       "unique      5          5\n",
       "top     Alice  Kathmandu\n",
       "freq        1          1"
      ]
     },
     "execution_count": 43,
     "metadata": {},
     "output_type": "execute_result"
    }
   ],
   "source": [
    "d2.describe(include ='object')"
   ]
  },
  {
   "cell_type": "code",
   "execution_count": null,
   "id": "94bef13e",
   "metadata": {},
   "outputs": [],
   "source": [
    "\"\"\" panel data used in statics\n",
    "pandas\n",
    "python library\n",
    "set table \n",
    "we can organize the data\n",
    "purpose -mainly used in data nalysis and data manipulation\n",
    "what is data structure \n",
    "serie sato deal with single vcolumn of data\n",
    "dataframe - is an excael sheet which use rows and column\n",
    "why to use pandas?\n",
    "handle large data easily \n",
    "to perform operation like filtering sorting merging the data to reaf the data to conver the messry data inclean and unstructureda data\n",
    "example imagine you have list of classmate you will get marks grades \n",
    "sales data which include \n",
    "when we talk about data -from where soucr o fdata .csv = comma seperated values\n",
    "web scrapping -you can capture the data \n",
    "amazzon ka page , vivo s\n",
    "web scrapping - data gathering \n",
    "dataset - when we have multiple rows and in the form of sheets \n",
    "data module -collectiuon of multiple dataset,surveys -you can make google form \n",
    "\"\"\""
   ]
  },
  {
   "cell_type": "code",
   "execution_count": null,
   "id": "cdf1d6fa",
   "metadata": {},
   "outputs": [
    {
     "ename": "SyntaxError",
     "evalue": "invalid syntax (1509650650.py, line 6)",
     "output_type": "error",
     "traceback": [
      "\u001b[1;36m  Cell \u001b[1;32mIn[13], line 6\u001b[1;36m\u001b[0m\n\u001b[1;33m    'marks':[78,79,72,74, ,77],\u001b[0m\n\u001b[1;37m                          ^\u001b[0m\n\u001b[1;31mSyntaxError\u001b[0m\u001b[1;31m:\u001b[0m invalid syntax\n"
     ]
    }
   ],
   "source": [
    "import pandas as pd\n",
    "student = pd.DataFrame({\n",
    "    'rollno':[101,102,103,104 ,105,106],\n",
    "    'name ':['A','B','C','D','E','F'],\n",
    "    'class':['bct','bct','bct','bct','bct','bct'],\n",
    "    'marks':[78,79,72,74,75,77],\n",
    "    'gender':[\"f\",'m','f','f','m','m']\n",
    "})\n",
    "student.to_csv('student.csv',index = False)\n",
    "student\n",
    "#dont sav index colu"
   ]
  },
  {
   "cell_type": "code",
   "execution_count": null,
   "id": "eaa47c82",
   "metadata": {},
   "outputs": [
    {
     "name": "stdout",
     "output_type": "stream",
     "text": [
      "   rollno name  class  marks gender\n",
      "0     101     A   bct     78      f\n",
      "1     102     B   bct     79      m\n",
      "2     103     C   bct     72      f\n",
      "3     104     D   bct     74      f\n",
      "4     105     E   bct     75      m\n",
      "5     106     F   bct     77      m\n"
     ]
    }
   ],
   "source": [
    "#reading the csv file \n",
    "student = pd.read_csv('student.csv')\n",
    "print(student.head())\n",
    " #konsa jo apka file tyoe paranthesis ke andart value hai\n",
    " \"\"\" sales = pd.read_excel(\"sales.xlxs)\n",
    " print(sales) \n",
    " \"\"\""
   ]
  },
  {
   "cell_type": "code",
   "execution_count": null,
   "id": "84244ed4",
   "metadata": {},
   "outputs": [
    {
     "name": "stdout",
     "output_type": "stream",
     "text": [
      "rollno    0\n",
      "name      0\n",
      "class     0\n",
      "marks     0\n",
      "gender    0\n",
      "dtype: int64\n"
     ]
    }
   ],
   "source": [
    "#cleaning and transforming \n",
    "print(student.isna().sum())#to check the missing value isna() method is used and .sum() addd garera value haru d"
   ]
  },
  {
   "cell_type": "code",
   "execution_count": 14,
   "id": "a38b774f",
   "metadata": {},
   "outputs": [
    {
     "name": "stdout",
     "output_type": "stream",
     "text": [
      "rollno    0\n",
      "name      0\n",
      "class     0\n",
      "marks     0\n",
      "gender    0\n",
      "dtype: int64\n"
     ]
    }
   ],
   "source": [
    "student['marks']=student['marks'].fillna(student['marks'].mean())\n",
    "print(student.isna().sum())"
   ]
  },
  {
   "cell_type": "code",
   "execution_count": 15,
   "id": "d93d81ea",
   "metadata": {},
   "outputs": [
    {
     "name": "stdout",
     "output_type": "stream",
     "text": [
      "   rollno name  class  marks gender\n",
      "0     101     A   bct     78      f\n",
      "1     102     B   bct     79      m\n",
      "5     106     F   bct     77      m\n"
     ]
    }
   ],
   "source": [
    "#filter the data\n",
    "print(student[student['marks']>=76])"
   ]
  },
  {
   "cell_type": "code",
   "execution_count": 17,
   "id": "57660a94",
   "metadata": {},
   "outputs": [
    {
     "name": "stdout",
     "output_type": "stream",
     "text": [
      "   rollno name  class  marks gender\n",
      "0     101     A   bct     78      f\n",
      "1     102     B   bct     79      m\n"
     ]
    }
   ],
   "source": [
    "print(student[student['marks']>=78])"
   ]
  },
  {
   "cell_type": "code",
   "execution_count": null,
   "id": "8e69b5e5",
   "metadata": {},
   "outputs": [
    {
     "ename": "KeyError",
     "evalue": "'name'",
     "output_type": "error",
     "traceback": [
      "\u001b[1;31m---------------------------------------------------------------------------\u001b[0m",
      "\u001b[1;31mKeyError\u001b[0m                                  Traceback (most recent call last)",
      "File \u001b[1;32mc:\\Users\\niraj\\AppData\\Local\\Programs\\Python\\Python310\\lib\\site-packages\\pandas\\core\\indexes\\base.py:3805\u001b[0m, in \u001b[0;36mIndex.get_loc\u001b[1;34m(self, key)\u001b[0m\n\u001b[0;32m   3804\u001b[0m \u001b[38;5;28;01mtry\u001b[39;00m:\n\u001b[1;32m-> 3805\u001b[0m     \u001b[38;5;28;01mreturn\u001b[39;00m \u001b[38;5;28;43mself\u001b[39;49m\u001b[38;5;241;43m.\u001b[39;49m\u001b[43m_engine\u001b[49m\u001b[38;5;241;43m.\u001b[39;49m\u001b[43mget_loc\u001b[49m\u001b[43m(\u001b[49m\u001b[43mcasted_key\u001b[49m\u001b[43m)\u001b[49m\n\u001b[0;32m   3806\u001b[0m \u001b[38;5;28;01mexcept\u001b[39;00m \u001b[38;5;167;01mKeyError\u001b[39;00m \u001b[38;5;28;01mas\u001b[39;00m err:\n",
      "File \u001b[1;32mindex.pyx:167\u001b[0m, in \u001b[0;36mpandas._libs.index.IndexEngine.get_loc\u001b[1;34m()\u001b[0m\n",
      "File \u001b[1;32mindex.pyx:196\u001b[0m, in \u001b[0;36mpandas._libs.index.IndexEngine.get_loc\u001b[1;34m()\u001b[0m\n",
      "File \u001b[1;32mpandas\\\\_libs\\\\hashtable_class_helper.pxi:7081\u001b[0m, in \u001b[0;36mpandas._libs.hashtable.PyObjectHashTable.get_item\u001b[1;34m()\u001b[0m\n",
      "File \u001b[1;32mpandas\\\\_libs\\\\hashtable_class_helper.pxi:7089\u001b[0m, in \u001b[0;36mpandas._libs.hashtable.PyObjectHashTable.get_item\u001b[1;34m()\u001b[0m\n",
      "\u001b[1;31mKeyError\u001b[0m: 'name'",
      "\nThe above exception was the direct cause of the following exception:\n",
      "\u001b[1;31mKeyError\u001b[0m                                  Traceback (most recent call last)",
      "Cell \u001b[1;32mIn[20], line 1\u001b[0m\n\u001b[1;32m----> 1\u001b[0m \u001b[38;5;28mprint\u001b[39m(student[student[\u001b[38;5;124m'\u001b[39m\u001b[38;5;124mmarks\u001b[39m\u001b[38;5;124m'\u001b[39m]\u001b[38;5;241m>\u001b[39m\u001b[38;5;241m=\u001b[39m\u001b[38;5;241m78\u001b[39m \u001b[38;5;241m&\u001b[39m \u001b[43mstudent\u001b[49m\u001b[43m[\u001b[49m\u001b[38;5;124;43m'\u001b[39;49m\u001b[38;5;124;43mname\u001b[39;49m\u001b[38;5;124;43m'\u001b[39;49m\u001b[43m]\u001b[49m\u001b[38;5;241m==\u001b[39m\u001b[38;5;124m'\u001b[39m\u001b[38;5;124mA\u001b[39m\u001b[38;5;124m'\u001b[39m])\n",
      "File \u001b[1;32mc:\\Users\\niraj\\AppData\\Local\\Programs\\Python\\Python310\\lib\\site-packages\\pandas\\core\\frame.py:4102\u001b[0m, in \u001b[0;36mDataFrame.__getitem__\u001b[1;34m(self, key)\u001b[0m\n\u001b[0;32m   4100\u001b[0m \u001b[38;5;28;01mif\u001b[39;00m \u001b[38;5;28mself\u001b[39m\u001b[38;5;241m.\u001b[39mcolumns\u001b[38;5;241m.\u001b[39mnlevels \u001b[38;5;241m>\u001b[39m \u001b[38;5;241m1\u001b[39m:\n\u001b[0;32m   4101\u001b[0m     \u001b[38;5;28;01mreturn\u001b[39;00m \u001b[38;5;28mself\u001b[39m\u001b[38;5;241m.\u001b[39m_getitem_multilevel(key)\n\u001b[1;32m-> 4102\u001b[0m indexer \u001b[38;5;241m=\u001b[39m \u001b[38;5;28;43mself\u001b[39;49m\u001b[38;5;241;43m.\u001b[39;49m\u001b[43mcolumns\u001b[49m\u001b[38;5;241;43m.\u001b[39;49m\u001b[43mget_loc\u001b[49m\u001b[43m(\u001b[49m\u001b[43mkey\u001b[49m\u001b[43m)\u001b[49m\n\u001b[0;32m   4103\u001b[0m \u001b[38;5;28;01mif\u001b[39;00m is_integer(indexer):\n\u001b[0;32m   4104\u001b[0m     indexer \u001b[38;5;241m=\u001b[39m [indexer]\n",
      "File \u001b[1;32mc:\\Users\\niraj\\AppData\\Local\\Programs\\Python\\Python310\\lib\\site-packages\\pandas\\core\\indexes\\base.py:3812\u001b[0m, in \u001b[0;36mIndex.get_loc\u001b[1;34m(self, key)\u001b[0m\n\u001b[0;32m   3807\u001b[0m     \u001b[38;5;28;01mif\u001b[39;00m \u001b[38;5;28misinstance\u001b[39m(casted_key, \u001b[38;5;28mslice\u001b[39m) \u001b[38;5;129;01mor\u001b[39;00m (\n\u001b[0;32m   3808\u001b[0m         \u001b[38;5;28misinstance\u001b[39m(casted_key, abc\u001b[38;5;241m.\u001b[39mIterable)\n\u001b[0;32m   3809\u001b[0m         \u001b[38;5;129;01mand\u001b[39;00m \u001b[38;5;28many\u001b[39m(\u001b[38;5;28misinstance\u001b[39m(x, \u001b[38;5;28mslice\u001b[39m) \u001b[38;5;28;01mfor\u001b[39;00m x \u001b[38;5;129;01min\u001b[39;00m casted_key)\n\u001b[0;32m   3810\u001b[0m     ):\n\u001b[0;32m   3811\u001b[0m         \u001b[38;5;28;01mraise\u001b[39;00m InvalidIndexError(key)\n\u001b[1;32m-> 3812\u001b[0m     \u001b[38;5;28;01mraise\u001b[39;00m \u001b[38;5;167;01mKeyError\u001b[39;00m(key) \u001b[38;5;28;01mfrom\u001b[39;00m\u001b[38;5;250m \u001b[39m\u001b[38;5;21;01merr\u001b[39;00m\n\u001b[0;32m   3813\u001b[0m \u001b[38;5;28;01mexcept\u001b[39;00m \u001b[38;5;167;01mTypeError\u001b[39;00m:\n\u001b[0;32m   3814\u001b[0m     \u001b[38;5;66;03m# If we have a listlike key, _check_indexing_error will raise\u001b[39;00m\n\u001b[0;32m   3815\u001b[0m     \u001b[38;5;66;03m#  InvalidIndexError. Otherwise we fall through and re-raise\u001b[39;00m\n\u001b[0;32m   3816\u001b[0m     \u001b[38;5;66;03m#  the TypeError.\u001b[39;00m\n\u001b[0;32m   3817\u001b[0m     \u001b[38;5;28mself\u001b[39m\u001b[38;5;241m.\u001b[39m_check_indexing_error(key)\n",
      "\u001b[1;31mKeyError\u001b[0m: 'name'"
     ]
    }
   ],
   "source": [
    "print(student[student['marks']>=78 and student['name']=='A'])"
   ]
  },
  {
   "cell_type": "code",
   "execution_count": null,
   "id": "132abc19",
   "metadata": {},
   "outputs": [
    {
     "name": "stdout",
     "output_type": "stream",
     "text": [
      "gender\n",
      "f    74.666667\n",
      "m    52.000000\n",
      "Name: marks, dtype: float64\n"
     ]
    }
   ],
   "source": [
    "#grouping \n",
    "print(student.groupby('gender')['marks'].mean())\n",
    "#so here we group students accorf=ding to gender by using group by function and we has marks as mean\n"
   ]
  },
  {
   "cell_type": "code",
   "execution_count": 24,
   "id": "3f8683c9",
   "metadata": {},
   "outputs": [
    {
     "name": "stdout",
     "output_type": "stream",
     "text": [
      "   rollno name  class  marks gender  modified_marks\n",
      "0     101     A   bct     78      f              68\n",
      "1     102     B   bct     79      m              69\n",
      "2     103     C   bct     72      f              62\n",
      "3     104     D   bct     74      f              64\n",
      "4     105     E   bct      0      m             -10\n",
      "5     106     F   bct     77      m              67\n"
     ]
    }
   ],
   "source": [
    "#calculatin adding calculate columns \n",
    "#WER CAN ADAD COLUMNS\n",
    "student['modified_marks'] = student['marks']-10\n",
    "print(student)"
   ]
  },
  {
   "cell_type": "code",
   "execution_count": 25,
   "id": "72b1b0c3",
   "metadata": {},
   "outputs": [],
   "source": [
    "#if you want to make any project \n",
    "student.to_csv('student_clean.csv',index=False)\n"
   ]
  }
 ],
 "metadata": {
  "kernelspec": {
   "display_name": "Python 3",
   "language": "python",
   "name": "python3"
  },
  "language_info": {
   "codemirror_mode": {
    "name": "ipython",
    "version": 3
   },
   "file_extension": ".py",
   "mimetype": "text/x-python",
   "name": "python",
   "nbconvert_exporter": "python",
   "pygments_lexer": "ipython3",
   "version": "3.10.9"
  }
 },
 "nbformat": 4,
 "nbformat_minor": 5
}
