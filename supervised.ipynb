{
 "cells": [
  {
   "cell_type": "code",
   "execution_count": null,
   "id": "1e570e56",
   "metadata": {},
   "outputs": [],
   "source": [
    "\"\"\"workflow of machine learning\"\"\""
   ]
  },
  {
   "cell_type": "code",
   "execution_count": null,
   "id": "e1ad585c",
   "metadata": {},
   "outputs": [],
   "source": [
    "\"\"\" \n",
    " understand business problems \n",
    " collect data \n",
    " prepare data\n",
    " choose model \n",
    " train model \n",
    " test model\n",
    " deploy and collect insight\n",
    "\"\"\""
   ]
  },
  {
   "cell_type": "code",
   "execution_count": null,
   "id": "4fed13e4",
   "metadata": {},
   "outputs": [],
   "source": [
    "\"\"\"reacap:\n",
    "types of machine learning\n",
    "supervised - the data is labelled data input>output\n",
    "eg predicting house price ,identidying spam mails \n",
    "- algorithms :\n",
    "linear regression ,decision tree, SVM.\n",
    "linear regression = y = mx+c\n",
    "unsupervised learning : which does train with unlabelled data \n",
    "model finds the pattern\n",
    "eg.customer segmentation in marking \n",
    "grouping similar news \n",
    "-algorithm : \n",
    "k-mean clustering \n",
    "hierarchical clustering \n",
    "3.reinforcement learning - agent learns by interating woth \n",
    "the enviroment \n",
    "self driving car \n",
    "trial and error \n",
    "learn from mistake \n",
    "you are playing video game , yo do not manual and you learn from experince \n",
    "reciving rewards or penalty \n",
    "training to a robot to walk \n",
    "algorithm : q learning ,we will use deep q learning \n",
    " \"most of the time we use unsupervised learning \"\n",
    " we use multiple algorithm for multiple task \n",
    "\"\"\" \n"
   ]
  },
  {
   "cell_type": "code",
   "execution_count": null,
   "id": "620ca0b6",
   "metadata": {},
   "outputs": [],
   "source": [
    "\"\"\"  supervised learning \n",
    "it is a type of machine learning where model is trained on \n",
    "labeled data \n",
    "labeled data means iput x are paired with correct output y\n",
    "the model learns mapping function : f(x)-y\n",
    "predict output for new unseen inputs\n",
    "a teacher supervises student with correct\n",
    "  answers so they can solve new problem     \"\"\""
   ]
  },
  {
   "cell_type": "code",
   "execution_count": null,
   "id": "344d5755",
   "metadata": {},
   "outputs": [],
   "source": [
    "\"\"\" prediction new data ma hunxa , chat gpt le learn garira hunxa \n",
    "so new output everytime  \n",
    "so hami sanga data hunxa ani tyo data lai hami algorithm lagauxam \n",
    "ani tepaxi algorithm ma lagauxam ani output niskinxa\n",
    "\n"
   ]
  },
  {
   "cell_type": "code",
   "execution_count": null,
   "id": "c8d88189",
   "metadata": {},
   "outputs": [],
   "source": [
    "''' how supervised learning works \n",
    "1. collect labeled dataset \n",
    "2. split dattaset into training and testing \n",
    "3. train the model using training data\n",
    "4.evaluate performance on test data\n",
    "5. deploy model to make prediction on new data\n"
   ]
  },
  {
   "cell_type": "code",
   "execution_count": 3,
   "id": "3ed8b616",
   "metadata": {},
   "outputs": [
    {
     "data": {
      "text/plain": [
       "'  training :\\ninput hunxa input ma algorithm use hunxa ani eauta logic build hunxa\\ntesting : \\ninput hunxa and input ma logic lagera output niskinxa '"
      ]
     },
     "execution_count": 3,
     "metadata": {},
     "output_type": "execute_result"
    }
   ],
   "source": [
    "'''  training :\n",
    "input hunxa input ma algorithm use hunxa ani eauta logic build hunxa\n",
    "testing : \n",
    "input hunxa and input ma logic lagera output niskinxa '''"
   ]
  },
  {
   "cell_type": "code",
   "execution_count": null,
   "id": "d476ec6e",
   "metadata": {},
   "outputs": [
    {
     "data": {
      "text/plain": [
       "'  regression  :\\nused to understand relationship between dependent and independent variable\\nproduces continious data \\nattempt to target output \\nproject of sales \\nin regressinon linear polynomial\\nclassidication :\\n'"
      ]
     },
     "execution_count": 4,
     "metadata": {},
     "output_type": "execute_result"
    }
   ],
   "source": [
    "'''  regression  :\n",
    "used to understand relationship between dependent and independent variable\n",
    "produces continious data \n",
    "attempt to target output \n",
    "project of sales \n",
    "in regressinon linear polynomial\n",
    "classidication :\n",
    "predicts categorical label \n",
    "\n",
    "'''"
   ]
  },
  {
   "cell_type": "code",
   "execution_count": null,
   "id": "c390b72c",
   "metadata": {},
   "outputs": [],
   "source": [
    "\"\"\" types of features in classification \n",
    "independent feature - input data providede to the model to \n",
    "preduct some output \n",
    "dependent features - output data obtained from model \n",
    "jasati multiple dependent variable lai use garera independent feature extract garney\n",
    "algorithms : lgistics regression ,decision tree, knn\n",
    "threshold - cutoff value : nwuron activate \n",
    "\"\"\""
   ]
  },
  {
   "cell_type": "code",
   "execution_count": null,
   "id": "bd10bb7a",
   "metadata": {},
   "outputs": [],
   "source": [
    "\"\"\" real life applications:\n",
    "predicting student exam scores-ahiley herera paxi ho :\n",
    "dependent haru lai independent sanga relate garayo \n",
    "face revognition stystem -c\n",
    "credit card fraud detection-c \n",
    "predicting weather or temperature - r \n",
    "medical diagnosis - c\n",
    "\"\"\""
   ]
  },
  {
   "cell_type": "code",
   "execution_count": null,
   "id": "421cf460",
   "metadata": {},
   "outputs": [],
   "source": [
    "\"\"\" regressions : it will include decimals \n",
    "aba temperature deko xa pressure deko xa relative humidity\n",
    " deko xa wind direction deko xa vane wind spped kati hola\n",
    "decimal use garyo\n",
    " advantage : it is easy to understand and implement \n",
    " provide accurate results eith sufficient labeled data\n",
    " useful for prediction and classification task \n",
    " extablished evaluation metrics (accuracy , precision , \n",
    " ecall , f1 score)\n",
    "limitation : \n",
    "requires large amount od labeled data\n",
    "time consuming and costly labelling preocess\n",
    "may overfit to training data and fail on unseen data - overfitting \n",
    "feature engieering \n",
    "bias in models\n",
    "\n",
    "yeti overkearn garisakyo \n",
    "\"\"\""
   ]
  },
  {
   "cell_type": "code",
   "execution_count": null,
   "id": "289fc727",
   "metadata": {},
   "outputs": [],
   "source": [
    "\"\"\" scikit learn - a pyhton librarry for ml\n",
    "built in numpy ,scipy and matplotlib \n",
    "mainly used for traditional ml algorithm not for deep\n",
    " learning \n",
    "it will provide rools for data'\n",
    " preprocessing(filtering ,scaling,encoding ,=)\n",
    "classification ,regression \n",
    "clustering \n",
    "model evaluation (confusion matrix,precision ,accuracy )\n",
    "model selction : has built in dataset like iris digits \n",
    "best for data analysis ,for protytyping models and teaching\n",
    " machine learning concepts\n",
    " how to use it \n",
    " "
   ]
  },
  {
   "cell_type": "code",
   "execution_count": 3,
   "id": "64a86f28",
   "metadata": {},
   "outputs": [],
   "source": [
    "from sklearn.model_selection import train_test_split\n"
   ]
  },
  {
   "cell_type": "code",
   "execution_count": 6,
   "id": "4d5a1393",
   "metadata": {},
   "outputs": [],
   "source": [
    "from sklearn.linear_model import LinearRegression\n",
    "import pandas as pd\n"
   ]
  }
 ],
 "metadata": {
  "kernelspec": {
   "display_name": "Python 3",
   "language": "python",
   "name": "python3"
  },
  "language_info": {
   "codemirror_mode": {
    "name": "ipython",
    "version": 3
   },
   "file_extension": ".py",
   "mimetype": "text/x-python",
   "name": "python",
   "nbconvert_exporter": "python",
   "pygments_lexer": "ipython3",
   "version": "3.10.9"
  }
 },
 "nbformat": 4,
 "nbformat_minor": 5
}
