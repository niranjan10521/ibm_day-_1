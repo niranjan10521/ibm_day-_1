{
 "cells": [
  {
   "cell_type": "code",
   "execution_count": 3,
   "id": "16b307b3",
   "metadata": {},
   "outputs": [],
   "source": [
    "\"\"\"\n",
    "mathematical operations\n",
    "\n",
    "\"\"\"\n",
    "list_1 =[1,2,3]\n",
    "list_2 = [4,5,6]\n",
    "import numpy as np"
   ]
  },
  {
   "cell_type": "code",
   "execution_count": 4,
   "id": "a168f8c9",
   "metadata": {},
   "outputs": [],
   "source": [
    "arr1 = np.array(list_1)\n",
    "arr2 = np.array(list_2)"
   ]
  },
  {
   "cell_type": "code",
   "execution_count": 5,
   "id": "c424f42a",
   "metadata": {},
   "outputs": [
    {
     "data": {
      "text/plain": [
       "array([5, 7, 9])"
      ]
     },
     "execution_count": 5,
     "metadata": {},
     "output_type": "execute_result"
    }
   ],
   "source": [
    "arr1 + arr2"
   ]
  },
  {
   "cell_type": "code",
   "execution_count": 6,
   "id": "35b5fc2c",
   "metadata": {},
   "outputs": [
    {
     "data": {
      "text/plain": [
       "array([-3, -3, -3])"
      ]
     },
     "execution_count": 6,
     "metadata": {},
     "output_type": "execute_result"
    }
   ],
   "source": [
    "arr1-arr2"
   ]
  },
  {
   "cell_type": "code",
   "execution_count": 7,
   "id": "bcd39263",
   "metadata": {},
   "outputs": [
    {
     "data": {
      "text/plain": [
       "array([0.25, 0.4 , 0.5 ])"
      ]
     },
     "execution_count": 7,
     "metadata": {},
     "output_type": "execute_result"
    }
   ],
   "source": [
    "arr1/arr2"
   ]
  },
  {
   "cell_type": "code",
   "execution_count": 9,
   "id": "9dc61fdd",
   "metadata": {},
   "outputs": [
    {
     "name": "stdout",
     "output_type": "stream",
     "text": [
      "[5 7 9]\n"
     ]
    }
   ],
   "source": [
    "print(np.add(arr1,arr2))"
   ]
  },
  {
   "cell_type": "code",
   "execution_count": 10,
   "id": "9b94ccaa",
   "metadata": {},
   "outputs": [
    {
     "name": "stdout",
     "output_type": "stream",
     "text": [
      "[ 4 10 18]\n"
     ]
    }
   ],
   "source": [
    "#multiplication\n",
    "print(np.multiply(arr2,arr1))"
   ]
  },
  {
   "cell_type": "code",
   "execution_count": 11,
   "id": "a19032e4",
   "metadata": {},
   "outputs": [
    {
     "name": "stdout",
     "output_type": "stream",
     "text": [
      "1.0\n"
     ]
    }
   ],
   "source": [
    "print(np.cos(0))"
   ]
  },
  {
   "cell_type": "code",
   "execution_count": 25,
   "id": "e3a23f5f",
   "metadata": {},
   "outputs": [
    {
     "data": {
      "text/plain": [
       "17"
      ]
     },
     "execution_count": 25,
     "metadata": {},
     "output_type": "execute_result"
    }
   ],
   "source": [
    "#case study \n",
    "height=[1,2,3,4,5,6,7,8,9,3,4,5,76,8,6,4,2]\n",
    "weight =[11,22,3,3,44,55,66,78,11,22,33,54,44,66,77,44,66]\n",
    "len(height)"
   ]
  },
  {
   "cell_type": "code",
   "execution_count": 26,
   "id": "c81d0487",
   "metadata": {},
   "outputs": [],
   "source": [
    "height = np.array(height)\n",
    "weight = np.array(weight)"
   ]
  },
  {
   "cell_type": "code",
   "execution_count": 27,
   "id": "3995989e",
   "metadata": {},
   "outputs": [
    {
     "name": "stdout",
     "output_type": "stream",
     "text": [
      "<class 'numpy.ndarray'>\n"
     ]
    }
   ],
   "source": [
    "print(type(height))\n"
   ]
  },
  {
   "cell_type": "code",
   "execution_count": 28,
   "id": "4bff3b01",
   "metadata": {},
   "outputs": [
    {
     "name": "stdout",
     "output_type": "stream",
     "text": [
      "(17,)\n"
     ]
    }
   ],
   "source": [
    "print(height.shape)"
   ]
  },
  {
   "cell_type": "code",
   "execution_count": 29,
   "id": "28422626",
   "metadata": {},
   "outputs": [
    {
     "name": "stdout",
     "output_type": "stream",
     "text": [
      "height = [  2.25   4.5    6.75   9.    11.25  13.5   15.75  18.    20.25   6.75\n",
      "   9.    11.25 171.    18.    13.5    9.     4.5 ] \n",
      "\n",
      "[ 4.95  9.9   1.35  1.35 19.8  24.75 29.7  35.1   4.95  9.9  14.85 24.3\n",
      " 19.8  29.7  34.65 19.8  29.7 ]\n"
     ]
    }
   ],
   "source": [
    "height1 = height *2.25\n",
    "print(\"height =\",height1,\"\\n\")\n",
    "weight1 = weight *0.45\n",
    "print(weight1)"
   ]
  },
  {
   "cell_type": "code",
   "execution_count": 34,
   "id": "6a844592",
   "metadata": {},
   "outputs": [],
   "source": [
    "bmi = (weight /(height**2))*10000"
   ]
  },
  {
   "cell_type": "code",
   "execution_count": 35,
   "id": "6b977e8b",
   "metadata": {},
   "outputs": [
    {
     "data": {
      "text/plain": [
       "array([1.10000000e+05, 5.50000000e+04, 3.33333333e+03, 1.87500000e+03,\n",
       "       1.76000000e+04, 1.52777778e+04, 1.34693878e+04, 1.21875000e+04,\n",
       "       1.35802469e+03, 2.44444444e+04, 2.06250000e+04, 2.16000000e+04,\n",
       "       7.61772853e+01, 1.03125000e+04, 2.13888889e+04, 2.75000000e+04,\n",
       "       1.65000000e+05])"
      ]
     },
     "execution_count": 35,
     "metadata": {},
     "output_type": "execute_result"
    }
   ],
   "source": [
    "bmi"
   ]
  },
  {
   "cell_type": "code",
   "execution_count": 36,
   "id": "16dcc115",
   "metadata": {},
   "outputs": [
    {
     "data": {
      "text/plain": [
       "np.float64(17600.0)"
      ]
     },
     "execution_count": 36,
     "metadata": {},
     "output_type": "execute_result"
    }
   ],
   "source": [
    "#for one dimensional arrays indexing is similar to python \n",
    "#obtain the 5th element from the array\n",
    "bmi[4]"
   ]
  },
  {
   "cell_type": "code",
   "execution_count": 37,
   "id": "c46e9753",
   "metadata": {},
   "outputs": [
    {
     "data": {
      "text/plain": [
       "np.float64(27500.0)"
      ]
     },
     "execution_count": 37,
     "metadata": {},
     "output_type": "execute_result"
    }
   ],
   "source": [
    "bmi[-2]"
   ]
  },
  {
   "cell_type": "code",
   "execution_count": 39,
   "id": "905d3de0",
   "metadata": {},
   "outputs": [
    {
     "data": {
      "text/plain": [
       "array([110000.        ,  55000.        ,   3333.33333333,   1875.        ])"
      ]
     },
     "execution_count": 39,
     "metadata": {},
     "output_type": "execute_result"
    }
   ],
   "source": [
    "#obtain first five\n",
    "bmi [:4]"
   ]
  },
  {
   "cell_type": "code",
   "execution_count": 40,
   "id": "abb20bc7",
   "metadata": {},
   "outputs": [
    {
     "data": {
      "text/plain": [
       "array([ 21388.88888889,  27500.        , 165000.        ])"
      ]
     },
     "execution_count": 40,
     "metadata": {},
     "output_type": "execute_result"
    }
   ],
   "source": [
    "#OBTAIN THE LAST THREE ELEMENTS FROM THE ARRAY\n",
    "bmi[-3:]"
   ]
  },
  {
   "cell_type": "code",
   "execution_count": 41,
   "id": "7db2aa1f",
   "metadata": {},
   "outputs": [
    {
     "data": {
      "text/plain": [
       "array([1875.        , 1358.02469136,   76.17728532])"
      ]
     },
     "execution_count": 41,
     "metadata": {},
     "output_type": "execute_result"
    }
   ],
   "source": [
    "bmi[bmi<2400]"
   ]
  },
  {
   "cell_type": "code",
   "execution_count": 42,
   "id": "0f79186a",
   "metadata": {},
   "outputs": [
    {
     "data": {
      "text/plain": [
       "0"
      ]
     },
     "execution_count": 42,
     "metadata": {},
     "output_type": "execute_result"
    }
   ],
   "source": [
    "#count the numbers of elements where bmi value is less than 21\n",
    "len(bmi[bmi<21])"
   ]
  },
  {
   "cell_type": "code",
   "execution_count": null,
   "id": "0f218c3b",
   "metadata": {},
   "outputs": [],
   "source": [
    "\"\"\"statical parameters\"\"\""
   ]
  },
  {
   "cell_type": "code",
   "execution_count": 43,
   "id": "6f7764c9",
   "metadata": {},
   "outputs": [
    {
     "data": {
      "text/plain": [
       "np.float64(76.17728531855956)"
      ]
     },
     "execution_count": 43,
     "metadata": {},
     "output_type": "execute_result"
    }
   ],
   "source": [
    "bmi.min()"
   ]
  },
  {
   "cell_type": "code",
   "execution_count": 44,
   "id": "6966c434",
   "metadata": {},
   "outputs": [
    {
     "data": {
      "text/plain": [
       "np.float64(165000.0)"
      ]
     },
     "execution_count": 44,
     "metadata": {},
     "output_type": "execute_result"
    }
   ],
   "source": [
    "bmi.max()"
   ]
  },
  {
   "cell_type": "code",
   "execution_count": 45,
   "id": "2812d29b",
   "metadata": {},
   "outputs": [
    {
     "data": {
      "text/plain": [
       "np.float64(30649.88436330724)"
      ]
     },
     "execution_count": 45,
     "metadata": {},
     "output_type": "execute_result"
    }
   ],
   "source": [
    "bmi.mean()"
   ]
  },
  {
   "cell_type": "code",
   "execution_count": 47,
   "id": "9f3bb2bf",
   "metadata": {},
   "outputs": [
    {
     "data": {
      "text/plain": [
       "np.float64(17600.0)"
      ]
     },
     "execution_count": 47,
     "metadata": {},
     "output_type": "execute_result"
    }
   ],
   "source": [
    "np.median(bmi)"
   ]
  },
  {
   "cell_type": "code",
   "execution_count": 48,
   "id": "3892cbd0",
   "metadata": {},
   "outputs": [
    {
     "data": {
      "text/plain": [
       "30"
      ]
     },
     "execution_count": 48,
     "metadata": {},
     "output_type": "execute_result"
    }
   ],
   "source": [
    "#lamda .you dont want like for loop \n",
    "x = lambda a,b : a*b\n",
    "x(5,6)"
   ]
  }
 ],
 "metadata": {
  "kernelspec": {
   "display_name": "Python 3",
   "language": "python",
   "name": "python3"
  },
  "language_info": {
   "codemirror_mode": {
    "name": "ipython",
    "version": 3
   },
   "file_extension": ".py",
   "mimetype": "text/x-python",
   "name": "python",
   "nbconvert_exporter": "python",
   "pygments_lexer": "ipython3",
   "version": "3.10.9"
  }
 },
 "nbformat": 4,
 "nbformat_minor": 5
}
