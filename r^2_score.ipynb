{
 "cells": [
  {
   "cell_type": "code",
   "execution_count": null,
   "id": "28619f42",
   "metadata": {},
   "outputs": [],
   "source": [
    "\"\"\" it tells us about how well our regression line explains the variation in data\n",
    "r^2 =1 perfect fot (model explains 100% of the variation)\n",
    "r^2 = 0  model does no better guessing mean\n",
    "<0 model is worse than guessing the mean \n",
    "\"\"\""
   ]
  },
  {
   "cell_type": "code",
   "execution_count": null,
   "id": "736dcaf1",
   "metadata": {},
   "outputs": [],
   "source": [
    "\"\"\" r^2 = 1-(s_res-ss_tot)\n",
    "ss_res = residual sum of squares (unexplained error )=E(actual value - mean of actual  value)^2\n",
    "ss_tot = total sum of squares (total varisation in actual data )= E(actual value -mean of actual value)\n",
    "Total variation(SS_tot)=how spread out the actual value arounf the mean \n",
    "uexplained variation(ss_res)=how much the variation the model failes to explain \n",
    "r^2 calculation - if model explains everything \n",
    "r^2 measures how well the regression line fits the data \n",
    "eg r^2 = 0.89 means 89% of the variation is explained by the model \n",
    "-live concert= the total noise (ss_total),sound syste will try to deliver correct sound\n",
    "unexplained noise(ss_res)= random bg chatter ,echo and disturbances \n",
    "r^2 tells us how clearly the system delivers bg chatter\n",
    "if r^2 = 0.9 = 90%-actudap \n",
    "\"\"\""
   ]
  }
 ],
 "metadata": {
  "kernelspec": {
   "display_name": "Python 3",
   "language": "python",
   "name": "python3"
  },
  "language_info": {
   "name": "python",
   "version": "3.10.9"
  }
 },
 "nbformat": 4,
 "nbformat_minor": 5
}
